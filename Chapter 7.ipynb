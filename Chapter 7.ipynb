{
 "cells": [
  {
   "cell_type": "markdown",
   "metadata": {},
   "source": [
    "# 7.1 Description of quick sort"
   ]
  },
  {
   "cell_type": "code",
   "execution_count": 66,
   "metadata": {},
   "outputs": [],
   "source": [
    "def partition(A,p,r):\n",
    "    x = A[r]\n",
    "    i = p-1\n",
    "    for j in range(p,r):\n",
    "        if A[j] <= x:\n",
    "            i+=1\n",
    "            A[i],A[j] = A[j], A[i]\n",
    "    A[i+1], A[r] = A[r], A[i+1]\n",
    "    return i+1"
   ]
  },
  {
   "cell_type": "code",
   "execution_count": 42,
   "metadata": {},
   "outputs": [],
   "source": [
    "def quicksort(A,p,r):\n",
    "    if p<r:\n",
    "        q = partition(A,p,r)\n",
    "        quicksort(A,p,q-1)\n",
    "        quicksort(A,q+1,r)\n",
    "    return A"
   ]
  },
  {
   "cell_type": "code",
   "execution_count": 43,
   "metadata": {},
   "outputs": [],
   "source": [
    "A = [2,8,7,1,3,5,6,4]"
   ]
  },
  {
   "cell_type": "code",
   "execution_count": 44,
   "metadata": {},
   "outputs": [
    {
     "data": {
      "text/plain": [
       "[1, 2, 3, 4, 5, 7, 6, 8]"
      ]
     },
     "execution_count": 44,
     "metadata": {},
     "output_type": "execute_result"
    }
   ],
   "source": [
    "quicksort(A,0,len(A)-1)"
   ]
  },
  {
   "cell_type": "markdown",
   "metadata": {},
   "source": [
    "## 7.1-1"
   ]
  },
  {
   "cell_type": "code",
   "execution_count": 67,
   "metadata": {},
   "outputs": [],
   "source": [
    "def partition_visualise(A,p,r):\n",
    "    x = A[r]\n",
    "    print(f\"The partition element from A is {x}\")\n",
    "    i = p-1\n",
    "    for j in range(p,r):\n",
    "        if A[j] <= x:\n",
    "            i+=1\n",
    "            A[i],A[j] = A[j], A[i]\n",
    "        print(f\"After the iteration {j+1} the array A is {A}\")\n",
    "    A[i+1], A[r] = A[r], A[i+1]\n",
    "    print(f\"The final array A is {A}\")\n",
    "    return i+1"
   ]
  },
  {
   "cell_type": "code",
   "execution_count": 68,
   "metadata": {},
   "outputs": [
    {
     "name": "stdout",
     "output_type": "stream",
     "text": [
      "The partition element from A is 11\n",
      "After the iteration 1 the array A is [13, 19, 9, 5, 12, 8, 7, 4, 21, 2, 6, 11]\n",
      "After the iteration 2 the array A is [13, 19, 9, 5, 12, 8, 7, 4, 21, 2, 6, 11]\n",
      "After the iteration 3 the array A is [9, 19, 13, 5, 12, 8, 7, 4, 21, 2, 6, 11]\n",
      "After the iteration 4 the array A is [9, 5, 13, 19, 12, 8, 7, 4, 21, 2, 6, 11]\n",
      "After the iteration 5 the array A is [9, 5, 13, 19, 12, 8, 7, 4, 21, 2, 6, 11]\n",
      "After the iteration 6 the array A is [9, 5, 8, 19, 12, 13, 7, 4, 21, 2, 6, 11]\n",
      "After the iteration 7 the array A is [9, 5, 8, 7, 12, 13, 19, 4, 21, 2, 6, 11]\n",
      "After the iteration 8 the array A is [9, 5, 8, 7, 4, 13, 19, 12, 21, 2, 6, 11]\n",
      "After the iteration 9 the array A is [9, 5, 8, 7, 4, 13, 19, 12, 21, 2, 6, 11]\n",
      "After the iteration 10 the array A is [9, 5, 8, 7, 4, 2, 19, 12, 21, 13, 6, 11]\n",
      "After the iteration 11 the array A is [9, 5, 8, 7, 4, 2, 6, 12, 21, 13, 19, 11]\n",
      "The final array A is [9, 5, 8, 7, 4, 2, 6, 11, 21, 13, 19, 12]\n"
     ]
    },
    {
     "data": {
      "text/plain": [
       "7"
      ]
     },
     "execution_count": 68,
     "metadata": {},
     "output_type": "execute_result"
    }
   ],
   "source": [
    "A = [13,19,9,5,12,8,7,4,21,2,6,11]\n",
    "partition_visualise(A,0,len(A)-1)"
   ]
  },
  {
   "cell_type": "markdown",
   "metadata": {},
   "source": [
    "#### Check the loop invariant"
   ]
  },
  {
   "cell_type": "code",
   "execution_count": 69,
   "metadata": {},
   "outputs": [
    {
     "name": "stdout",
     "output_type": "stream",
     "text": [
      "This is A before the loop [9, 5, 8, 7, 4, 2, 6, 11, 21, 13, 19, 12]\n",
      "True\n",
      "True\n",
      "True\n",
      "True\n",
      "True\n",
      "True\n",
      "True\n"
     ]
    }
   ],
   "source": [
    "A = [13,19,9,5,12,8,7,4,21,2,6,11]\n",
    "q = partition(A,0,len(A)-1)\n",
    "print(f\"This is A before the loop {A}\")\n",
    "for element in A[:q]:\n",
    "    print(element < A[q])"
   ]
  },
  {
   "cell_type": "code",
   "execution_count": 72,
   "metadata": {},
   "outputs": [
    {
     "name": "stdout",
     "output_type": "stream",
     "text": [
      "This is A before the loop [9, 5, 8, 7, 4, 2, 6, 11, 21, 13, 19, 12]\n",
      "True\n",
      "True\n",
      "True\n",
      "True\n"
     ]
    }
   ],
   "source": [
    "A = [13,19,9,5,12,8,7,4,21,2,6,11]\n",
    "q = partition(A,0,len(A)-1)\n",
    "print(f\"This is A before the loop {A}\")\n",
    "for element in A[q+1:]:\n",
    "    print(element > A[q])"
   ]
  },
  {
   "cell_type": "markdown",
   "metadata": {},
   "source": [
    "## 7.1-2"
   ]
  },
  {
   "cell_type": "markdown",
   "metadata": {},
   "source": [
    "The function *partiotion* will return **r** when all the element are the same. This is because the condition of the __if__ statement will be true every time and _i_ will be increased by 1 *n* times."
   ]
  },
  {
   "cell_type": "code",
   "execution_count": 74,
   "metadata": {
    "scrolled": true
   },
   "outputs": [
    {
     "data": {
      "text/plain": [
       "6"
      ]
     },
     "execution_count": 74,
     "metadata": {},
     "output_type": "execute_result"
    }
   ],
   "source": [
    "A = [1,1,1,1,1,1,1]\n",
    "partition(A,0,len(A)-1)"
   ]
  },
  {
   "cell_type": "code",
   "execution_count": 80,
   "metadata": {},
   "outputs": [],
   "source": [
    "def partition_modified(A,p,r):\n",
    "    if len(set(A))==1:\n",
    "        return (p+r)//2\n",
    "    else:\n",
    "        x = A[r]\n",
    "        i = p-1\n",
    "        for j in range(p,r):\n",
    "            if A[j] <= x:\n",
    "                i+=1\n",
    "                A[i],A[j] = A[j], A[i]\n",
    "        A[i+1], A[r] = A[r], A[i+1]\n",
    "        return i+1"
   ]
  },
  {
   "cell_type": "code",
   "execution_count": 82,
   "metadata": {},
   "outputs": [
    {
     "data": {
      "text/plain": [
       "3"
      ]
     },
     "execution_count": 82,
     "metadata": {},
     "output_type": "execute_result"
    }
   ],
   "source": [
    "partition_modified(A,0,len(A)-1)"
   ]
  },
  {
   "cell_type": "markdown",
   "metadata": {},
   "source": [
    "## 7.1-3"
   ]
  },
  {
   "cell_type": "markdown",
   "metadata": {},
   "source": [
    "The __for__ loop in *partition* runs in the range from **p** to __r__ - or the number of elements in the array. Also, the two calls outside the loop take constant time. So, the running time of *partition* is $\\Theta(n)$"
   ]
  },
  {
   "cell_type": "markdown",
   "metadata": {},
   "source": [
    "## 7.1-4\n",
    "\n",
    "If we want *quicksort* to do decreasing sorting, we would need to change the partition function. More specifically, condition of the **if** statement and replace $\\le$ with $\\ge$"
   ]
  }
 ],
 "metadata": {
  "kernelspec": {
   "display_name": "Python 3",
   "language": "python",
   "name": "python3"
  },
  "language_info": {
   "codemirror_mode": {
    "name": "ipython",
    "version": 3
   },
   "file_extension": ".py",
   "mimetype": "text/x-python",
   "name": "python",
   "nbconvert_exporter": "python",
   "pygments_lexer": "ipython3",
   "version": "3.6.9"
  }
 },
 "nbformat": 4,
 "nbformat_minor": 2
}
