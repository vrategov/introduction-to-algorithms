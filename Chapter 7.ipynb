{
 "cells": [
  {
   "cell_type": "markdown",
   "metadata": {},
   "source": [
    "# 7.1 Description of quick sort"
   ]
  },
  {
   "cell_type": "code",
   "execution_count": 1,
   "metadata": {},
   "outputs": [],
   "source": [
    "def partition(A,p,r):\n",
    "    x = A[r]\n",
    "    i = p-1\n",
    "    for j in range(p,r):\n",
    "        if A[j] <= x:\n",
    "            i+=1\n",
    "            A[i],A[j] = A[j], A[i]\n",
    "    A[i+1], A[r] = A[r], A[i+1]\n",
    "    return i+1"
   ]
  },
  {
   "cell_type": "code",
   "execution_count": 2,
   "metadata": {},
   "outputs": [],
   "source": [
    "def quicksort(A,p,r):\n",
    "    if p<r:\n",
    "        q = partition(A,p,r)\n",
    "        quicksort(A,p,q-1)\n",
    "        quicksort(A,q+1,r)\n",
    "    return A"
   ]
  },
  {
   "cell_type": "code",
   "execution_count": 3,
   "metadata": {},
   "outputs": [],
   "source": [
    "A = [2,8,7,1,3,5,6,4]"
   ]
  },
  {
   "cell_type": "code",
   "execution_count": 4,
   "metadata": {},
   "outputs": [
    {
     "data": {
      "text/plain": [
       "[1, 2, 3, 4, 5, 6, 7, 8]"
      ]
     },
     "execution_count": 4,
     "metadata": {},
     "output_type": "execute_result"
    }
   ],
   "source": [
    "quicksort(A,0,len(A)-1)"
   ]
  },
  {
   "cell_type": "markdown",
   "metadata": {},
   "source": [
    "## 7.1-1"
   ]
  },
  {
   "cell_type": "code",
   "execution_count": 5,
   "metadata": {},
   "outputs": [],
   "source": [
    "def partition_visualise(A,p,r):\n",
    "    x = A[r]\n",
    "    print(f\"The partition element from A is {x}\")\n",
    "    i = p-1\n",
    "    for j in range(p,r):\n",
    "        if A[j] <= x:\n",
    "            i+=1\n",
    "            A[i],A[j] = A[j], A[i]\n",
    "        print(f\"After the iteration {j+1} the array A is {A}\")\n",
    "    A[i+1], A[r] = A[r], A[i+1]\n",
    "    print(f\"The final array A is {A}\")\n",
    "    return i+1"
   ]
  },
  {
   "cell_type": "code",
   "execution_count": 6,
   "metadata": {},
   "outputs": [
    {
     "name": "stdout",
     "output_type": "stream",
     "text": [
      "The partition element from A is 11\n",
      "After the iteration 1 the array A is [13, 19, 9, 5, 12, 8, 7, 4, 21, 2, 6, 11]\n",
      "After the iteration 2 the array A is [13, 19, 9, 5, 12, 8, 7, 4, 21, 2, 6, 11]\n",
      "After the iteration 3 the array A is [9, 19, 13, 5, 12, 8, 7, 4, 21, 2, 6, 11]\n",
      "After the iteration 4 the array A is [9, 5, 13, 19, 12, 8, 7, 4, 21, 2, 6, 11]\n",
      "After the iteration 5 the array A is [9, 5, 13, 19, 12, 8, 7, 4, 21, 2, 6, 11]\n",
      "After the iteration 6 the array A is [9, 5, 8, 19, 12, 13, 7, 4, 21, 2, 6, 11]\n",
      "After the iteration 7 the array A is [9, 5, 8, 7, 12, 13, 19, 4, 21, 2, 6, 11]\n",
      "After the iteration 8 the array A is [9, 5, 8, 7, 4, 13, 19, 12, 21, 2, 6, 11]\n",
      "After the iteration 9 the array A is [9, 5, 8, 7, 4, 13, 19, 12, 21, 2, 6, 11]\n",
      "After the iteration 10 the array A is [9, 5, 8, 7, 4, 2, 19, 12, 21, 13, 6, 11]\n",
      "After the iteration 11 the array A is [9, 5, 8, 7, 4, 2, 6, 12, 21, 13, 19, 11]\n",
      "The final array A is [9, 5, 8, 7, 4, 2, 6, 11, 21, 13, 19, 12]\n"
     ]
    },
    {
     "data": {
      "text/plain": [
       "7"
      ]
     },
     "execution_count": 6,
     "metadata": {},
     "output_type": "execute_result"
    }
   ],
   "source": [
    "A = [13,19,9,5,12,8,7,4,21,2,6,11]\n",
    "partition_visualise(A,0,len(A)-1)"
   ]
  },
  {
   "cell_type": "markdown",
   "metadata": {},
   "source": [
    "#### Check the loop invariant"
   ]
  },
  {
   "cell_type": "code",
   "execution_count": 7,
   "metadata": {},
   "outputs": [
    {
     "name": "stdout",
     "output_type": "stream",
     "text": [
      "This is A before the loop [9, 5, 8, 7, 4, 2, 6, 11, 21, 13, 19, 12]\n",
      "True\n",
      "True\n",
      "True\n",
      "True\n",
      "True\n",
      "True\n",
      "True\n"
     ]
    }
   ],
   "source": [
    "A = [13,19,9,5,12,8,7,4,21,2,6,11]\n",
    "q = partition(A,0,len(A)-1)\n",
    "print(f\"This is A before the loop {A}\")\n",
    "for element in A[:q]:\n",
    "    print(element < A[q])"
   ]
  },
  {
   "cell_type": "code",
   "execution_count": 8,
   "metadata": {},
   "outputs": [
    {
     "name": "stdout",
     "output_type": "stream",
     "text": [
      "This is A before the loop [9, 5, 8, 7, 4, 2, 6, 11, 21, 13, 19, 12]\n",
      "True\n",
      "True\n",
      "True\n",
      "True\n"
     ]
    }
   ],
   "source": [
    "A = [13,19,9,5,12,8,7,4,21,2,6,11]\n",
    "q = partition(A,0,len(A)-1)\n",
    "print(f\"This is A before the loop {A}\")\n",
    "for element in A[q+1:]:\n",
    "    print(element > A[q])"
   ]
  },
  {
   "cell_type": "markdown",
   "metadata": {},
   "source": [
    "## 7.1-2"
   ]
  },
  {
   "cell_type": "markdown",
   "metadata": {},
   "source": [
    "The function *partiotion* will return **r** when all the element are the same. This is because the condition of the __if__ statement will be true every time and _i_ will be increased by 1 *n* times."
   ]
  },
  {
   "cell_type": "code",
   "execution_count": 9,
   "metadata": {
    "scrolled": true
   },
   "outputs": [
    {
     "data": {
      "text/plain": [
       "6"
      ]
     },
     "execution_count": 9,
     "metadata": {},
     "output_type": "execute_result"
    }
   ],
   "source": [
    "A = [1,1,1,1,1,1,1]\n",
    "partition(A,0,len(A)-1)"
   ]
  },
  {
   "cell_type": "code",
   "execution_count": 10,
   "metadata": {},
   "outputs": [],
   "source": [
    "def partition_modified(A,p,r):\n",
    "    if len(set(A))==1:\n",
    "        return (p+r)//2\n",
    "    else:\n",
    "        x = A[r]\n",
    "        i = p-1\n",
    "        for j in range(p,r):\n",
    "            if A[j] <= x:\n",
    "                i+=1\n",
    "                A[i],A[j] = A[j], A[i]\n",
    "        A[i+1], A[r] = A[r], A[i+1]\n",
    "        return i+1"
   ]
  },
  {
   "cell_type": "code",
   "execution_count": 11,
   "metadata": {},
   "outputs": [
    {
     "data": {
      "text/plain": [
       "3"
      ]
     },
     "execution_count": 11,
     "metadata": {},
     "output_type": "execute_result"
    }
   ],
   "source": [
    "partition_modified(A,0,len(A)-1)"
   ]
  },
  {
   "cell_type": "markdown",
   "metadata": {},
   "source": [
    "## 7.1-3"
   ]
  },
  {
   "cell_type": "markdown",
   "metadata": {},
   "source": [
    "The __for__ loop in *partition* runs in the range from **p** to __r__ - or the number of elements in the array. Also, the two calls outside the loop take constant time. So, the running time of *partition* is $\\Theta(n)$"
   ]
  },
  {
   "cell_type": "markdown",
   "metadata": {},
   "source": [
    "## 7.1-4\n",
    "\n",
    "If we want *quicksort* to do decreasing sorting, we would need to change the partition function. More specifically, condition of the **if** statement and replace $\\le$ with $\\ge$"
   ]
  },
  {
   "cell_type": "markdown",
   "metadata": {},
   "source": [
    "# 7.2 Performance of quicksort"
   ]
  },
  {
   "cell_type": "markdown",
   "metadata": {},
   "source": [
    "## 7.2-1\n",
    "\n",
    "From the definition of $\\Theta$ (page 44) we need to show that the function $T(n)$ is between $c_1n^2$ and $c_2n^2$.\n",
    "\n",
    "The reccurence has the following form: $T(n)=T(n-1) + \\Theta(n)$\n",
    "\n",
    "First, we will show that $O(n^2)$. From the assumption that $O(n^2)$, we have the following expression:\n",
    "\n",
    "$T(n) \\le T(n-1)^2+\\Theta(n)$\n",
    "\n",
    "$\\le c_1(n-1)^2+c_2n$\n",
    "\n",
    "$\\le c_1n^2 - 2c_1n + c_1 + c_2n$\n",
    "\n",
    "From this we can make the conclusion as with $n$ going to infinity the first part will dominate the expression:\n",
    "\n",
    "$\\le c_1n^2$\n",
    "\n",
    "Analogically, we can show that $\\Omega(n^2)$. \n",
    "\n",
    "\n",
    "$T(n) \\ge T(n-1)^2+\\Theta(n)$\n",
    "\n",
    "$\\ge c_1(n-1)^2+c_2n$\n",
    "\n",
    "$\\ge c_1n^2 -2c_1n + c_1 + c_2n$\n",
    "\n",
    "From this we can make the conclusion as with $n$ going to infinity the first part will dominate the expression but we are still adding something else:\n",
    "\n",
    "$\\ge c_1n^2$\n",
    "\n",
    "Therefore, $T(n)=\\Theta(n^2)$"
   ]
  },
  {
   "cell_type": "markdown",
   "metadata": {},
   "source": [
    "## 7.2-2\n",
    "\n",
    "When all the elements in the array are the same *partition* will return *r*. Afterwards, one of the partitioned groups will have 0 elements. Therefore, we have the worst case scenario for quicksort and the running time is $\\Theta(n^2)$"
   ]
  },
  {
   "cell_type": "markdown",
   "metadata": {},
   "source": [
    "## 7.2-3\n",
    "\n",
    "When the elements of the array are already sorted in a decreasing order the partition element will be the smallest element of the array (the last one). Therefore, the **if** condition will never be true. At the end the partition element will be put in the first spot and the we'd have a scenario where we decreased the original problem only with one element. The reccurence of this is the one described in 7.1-1 and its solution is $\\Theta(n^2)$"
   ]
  },
  {
   "cell_type": "markdown",
   "metadata": {},
   "source": [
    "## 7.2-4\n",
    "\n",
    "Insertion sort algorithm tends to having linear running time when the array is almost sorted (the best case scenario for insertion sort is $\\Theta(n)$ when the array is already sorted. While in the quicksort algorithm, *partition* will produce such element where the running of the algorithm will become $\\Theta(n^2)$"
   ]
  },
  {
   "cell_type": "markdown",
   "metadata": {},
   "source": [
    "## 7.2-5\n",
    "\n",
    "To reach the minimum depth of the recursion three we need to move to the branch with least problem division - $\\alpha$. The minimum depth is equal to $\\alpha^in$ - the problem is divided to $\\alpha n$ subproblems $i$ times. And we are interested when this expression will equal to $1$. It can be shown that this is true after iteration with number $\\frac{-\\lg n}{\\lg\\alpha}$.\n",
    "\n",
    "Analogically, we can show that the maximum depth is reached after $\\frac{-\\lg n}{\\lg(1-\\alpha)}$ iterations."
   ]
  },
  {
   "cell_type": "markdown",
   "metadata": {},
   "source": [
    "## 7.2-6\n",
    "\n",
    "The statement of the problems wants to prove that $\\alpha n \\le q \\le (1-\\alpha)n$, where $q$ is the number of elements in the array less than the partition element $A[n]$. The probability of the left inequality is $\\frac{\\alpha n}{n}=\\alpha$ and the probability of the right inequality is $\\frac{(1-\\alpha)n}{n}=1-\\alpha$. The final probability is $(1-\\alpha)-\\alpha=1-2\\alpha$."
   ]
  },
  {
   "cell_type": "markdown",
   "metadata": {},
   "source": [
    "# 7.3 A randomized version of quicksort"
   ]
  },
  {
   "cell_type": "code",
   "execution_count": 218,
   "metadata": {},
   "outputs": [
    {
     "name": "stdout",
     "output_type": "stream",
     "text": [
      "1\n"
     ]
    }
   ],
   "source": [
    "from random import randrange\n",
    "print(randrange(1,5))"
   ]
  },
  {
   "cell_type": "code",
   "execution_count": 13,
   "metadata": {},
   "outputs": [],
   "source": [
    "def randomized_partition(A,p,r):\n",
    "    i = randrange(p,r+1)\n",
    "    A[r], A[i] = A[i], A[r]\n",
    "    return partition(A,p,r)"
   ]
  },
  {
   "cell_type": "code",
   "execution_count": 14,
   "metadata": {},
   "outputs": [],
   "source": [
    "def randomized_quicksort(A,p,r):\n",
    "    if p<r:\n",
    "        q = randomized_partition(A,p,r)\n",
    "        randomized_quicksort(A,p,q-1)\n",
    "        randomized_quicksort(A,q+1,r)\n",
    "    return A"
   ]
  },
  {
   "cell_type": "code",
   "execution_count": 15,
   "metadata": {},
   "outputs": [
    {
     "data": {
      "text/plain": [
       "[2, 4, 5, 6, 7, 8, 9, 11, 12, 13, 19, 21]"
      ]
     },
     "execution_count": 15,
     "metadata": {},
     "output_type": "execute_result"
    }
   ],
   "source": [
    "A = [13,19,9,5,12,8,7,4,21,2,6,11]\n",
    "randomized_quicksort(A,0,len(A)-1)"
   ]
  },
  {
   "cell_type": "markdown",
   "metadata": {},
   "source": [
    "## 7.3-1\n",
    "\n",
    "The worst case scenario is a very specific scenario which we do not have control over with randomized algorithm. That is why we are interested in the expected running time."
   ]
  },
  {
   "cell_type": "markdown",
   "metadata": {},
   "source": [
    "## 7.3-2\n",
    "\n",
    "The random number generator is called with every call to *randomized_partition*. It is called **n** times so we have $\\Theta(n)$."
   ]
  },
  {
   "cell_type": "markdown",
   "metadata": {},
   "source": [
    "# 7.4 Analysis of quicksort"
   ]
  },
  {
   "cell_type": "markdown",
   "metadata": {},
   "source": [
    "## 7.4-1\n",
    "\n",
    "Given the recurrence:\n",
    "\n",
    "$T(n) = \\max\\limits_{0\\leq q\\leq n-1}(T(q)+T(n-q-1))+\\Theta(n)$\n",
    "\n",
    "we must show that $T(n) \\ge cn^2$\n",
    "\n",
    "$T(n) \\ge \\max\\limits_{0\\leq q\\leq n-1}(cn^2+c(n-q-1)^2)+\\Theta(n)$\n",
    "\n",
    "$=c \\max\\limits_{0\\leq q\\leq n-1}(n^2+(n-q)^2-2(n-q)+1)+\\Theta(n)$\n",
    "\n",
    "$ =c \\max\\limits_{0\\leq q\\leq n-1}(n^2+n^2-2nq+q^2-2n-2q+1)+\\Theta(n)$\n",
    "\n",
    "$ \\ge 2cn^2-2c(1-q)n+c(q^2-2q+1)+\\Theta(n)$"
   ]
  },
  {
   "cell_type": "markdown",
   "metadata": {},
   "source": [
    "## 7.4-2\n",
    "\n",
    "The idea here is to show the running time of the following recurrence:\n",
    "\n",
    "$T(n) = \\min \\limits_{0\\leq q\\leq n-1}(T(q)+T(n-q-1))+\\Theta(n)$\n",
    "\n",
    "Our induction hypothesis is $T(n) = \\Omega(n\\lg n)$ and we need to show that $T(n) \\ge cn\\lg n$\n",
    "\n",
    "After we make the substitution, we have:\n",
    "\n",
    "$T(n) \\ge \\min \\limits_{0\\leq q\\leq n-1}(cq\\lg q + c(n-q-1)\\lg(n-q-1))+\\Theta(n)$\n",
    "\n",
    "$= c \\min \\limits_{0\\leq q\\leq n-1}(q\\lg q + (n-q-1)\\lg(n-q-1))+\\Theta(n)$\n",
    "\n",
    "It is easy to show the derivative of with respect to $q$ of $q\\lg q + (n-q-1)\\lg(n-q-1)=0$ when $q=(n-1)\\lg\\frac{n-1}{2}$\n",
    "\n",
    "The next step is to substitute $q$ with $(n-1)\\lg\\frac{n-1}{2}$ in our assumption and when we simplify the expression we get:\n",
    "\n",
    "$T(n) \\ge cn\\lg n$"
   ]
  },
  {
   "cell_type": "markdown",
   "metadata": {},
   "source": [
    "# 7.4-3\n",
    "\n",
    "The first step is to caluclate the first derivative.\n",
    "\n",
    "$\\frac{\\partial(q^2+(n-q-1)^2)}{\\partial q}=4q - 2n +4$\n",
    "\n",
    "As the second derivative with respect to $q$ equals to 4, we can conclude that the funcion has a minimum point when $f'=0$. Therefore, it is decreasing left from the minima and increasing after that. So, the maximum values of the function are at the endpoints and it is equal to $(n-1)^2$"
   ]
  },
  {
   "cell_type": "markdown",
   "metadata": {},
   "source": [
    "# 7.4-4\n",
    "\n",
    "The approach is similar as in the chapter exposition which shows that the expected running time is $O(n\\lg n)$. Here we need to show that $\\sum_{i=1}^{n-1}\\sum_{k=1}^{n-i}>\\frac{2}{k+1}$\n",
    "\n",
    "Using mathematical induction we can show that this is true.\n",
    "\n",
    "$>\\frac{2}{(k+1)+1}$\n",
    "\n",
    "$>\\frac{2}{k} + 1$\n",
    "\n",
    "$=\\sum_{i=1}^{n-1}\\sum_{k=1}^{n-i}\\frac{2}{k} + \\sum_{i=1}^{n-1}\\sum_{k=1}^{n-i}1$\n",
    "\n",
    "$=\\sum_{i=1}^{n-1}O(\\lg n) + (n-1)$\n",
    "\n",
    "$=\\Omega(n\\lg n)$"
   ]
  },
  {
   "cell_type": "markdown",
   "metadata": {},
   "source": [
    "## 7.4-5\n",
    "\n",
    "The right part of the running time expression of this algorithm comes from the quicksort part. Quick sort will run until the new subarray is atmost $k$ elements. The left part comes from the insertion sort algorithm. It runs for subarrays with maximum length $k$ and there are $\\frac{n}{k}$ such subarrays."
   ]
  },
  {
   "cell_type": "markdown",
   "metadata": {},
   "source": [
    "## 7.4-6"
   ]
  },
  {
   "cell_type": "markdown",
   "metadata": {},
   "source": [
    "# 7-1"
   ]
  },
  {
   "cell_type": "markdown",
   "metadata": {},
   "source": [
    "## A."
   ]
  },
  {
   "cell_type": "code",
   "execution_count": 201,
   "metadata": {},
   "outputs": [],
   "source": [
    "def hoare_partition(A,p,r):\n",
    "    x=A[p]\n",
    "    i=p\n",
    "    j=r\n",
    "    while True:\n",
    "        #print(f\"Iteration with i={i} and j={j}. x is {x}\")\n",
    "        while True:\n",
    "            #print(f\"decreasing j to {j-1}\")\n",
    "            j-=1\n",
    "            #print(f\"check if condition between {A[j]} and {x}\")\n",
    "            if (A[j]<=x):\n",
    "                break\n",
    "        while True:\n",
    "            #print(f\"increasing i to {i+1}\")\n",
    "            i+=1\n",
    "            #print(f\"check if condition between {A[i]} and {x}\")\n",
    "            if (A[i]>=x):\n",
    "                break\n",
    "        if i<j:\n",
    "            A[i],A[j] = A[j],A[i]\n",
    "            #print(f\"After iteration i={i},j={j},x={x} and A={A}\")\n",
    "        else:\n",
    "            return j"
   ]
  },
  {
   "cell_type": "code",
   "execution_count": 168,
   "metadata": {},
   "outputs": [],
   "source": [
    "def hoare_partition_vis(A,p,r):\n",
    "    x=A[p]\n",
    "    i=p\n",
    "    j=r\n",
    "    while True:\n",
    "        #print(f\"Iteration with i={i} and j={j}. x is {x}\")\n",
    "        while True:\n",
    "            #print(f\"decreasing j to {j-1}\")\n",
    "            j-=1\n",
    "            #print(f\"check if condition between {A[j]} and {x}\")\n",
    "            if (A[j]<=x):\n",
    "                break\n",
    "        while True:\n",
    "            #print(f\"increasing i to {i+1}\")\n",
    "            i+=1\n",
    "            #print(f\"check if condition between {A[i]} and {x}\")\n",
    "            if (A[i]>=x):\n",
    "                break\n",
    "        if i<j:\n",
    "            A[i],A[j] = A[j],A[i]\n",
    "            print(f\"After iteration i={i},j={j},x={x} and A={A}\")\n",
    "        else:\n",
    "            return j,i,x"
   ]
  },
  {
   "cell_type": "code",
   "execution_count": 169,
   "metadata": {},
   "outputs": [],
   "source": [
    "A = [13,19,9,5,12,8,7,4,11,2,6,21]"
   ]
  },
  {
   "cell_type": "code",
   "execution_count": 170,
   "metadata": {
    "scrolled": true
   },
   "outputs": [
    {
     "name": "stdout",
     "output_type": "stream",
     "text": [
      "After iteration i=1,j=10,x=13 and A=[13, 6, 9, 5, 12, 8, 7, 4, 11, 2, 19, 21]\n"
     ]
    }
   ],
   "source": [
    "j,i,x = hoare_partition_vis(A,0,len(A)-1)"
   ]
  },
  {
   "cell_type": "code",
   "execution_count": 171,
   "metadata": {},
   "outputs": [
    {
     "data": {
      "text/plain": [
       "[13, 6, 9, 5, 12, 8, 7, 4, 11, 2, 19, 21]"
      ]
     },
     "execution_count": 171,
     "metadata": {},
     "output_type": "execute_result"
    }
   ],
   "source": [
    "A"
   ]
  },
  {
   "cell_type": "markdown",
   "metadata": {},
   "source": [
    "## B.\n",
    "At the start of the partition procedure the indices are the first and last index. And given the fact that we increase the left index and decrease the right index, we are guarantee not ot access elements outside of the array by the if condition at the end. "
   ]
  },
  {
   "cell_type": "markdown",
   "metadata": {},
   "source": [
    "## C.\n",
    "The left part of the inequality holds as the procedure will terminate if $i>j$. The right part is true as there will be at least one iteration of the while loope where we decrease $j$ by 1."
   ]
  },
  {
   "cell_type": "markdown",
   "metadata": {},
   "source": [
    "## D."
   ]
  },
  {
   "cell_type": "code",
   "execution_count": 172,
   "metadata": {},
   "outputs": [
    {
     "name": "stdout",
     "output_type": "stream",
     "text": [
      "10 9 13\n"
     ]
    }
   ],
   "source": [
    "print(i,j,x)"
   ]
  },
  {
   "cell_type": "code",
   "execution_count": 173,
   "metadata": {},
   "outputs": [
    {
     "data": {
      "text/plain": [
       "[13, 6, 9, 5, 12, 8, 7, 4, 11, 2]"
      ]
     },
     "execution_count": 173,
     "metadata": {},
     "output_type": "execute_result"
    }
   ],
   "source": [
    "A[:j+1]"
   ]
  },
  {
   "cell_type": "code",
   "execution_count": 174,
   "metadata": {},
   "outputs": [
    {
     "data": {
      "text/plain": [
       "[19, 21]"
      ]
     },
     "execution_count": 174,
     "metadata": {},
     "output_type": "execute_result"
    }
   ],
   "source": [
    "A[j+1:]"
   ]
  },
  {
   "cell_type": "code",
   "execution_count": 175,
   "metadata": {},
   "outputs": [],
   "source": [
    "total_holds = 0\n",
    "for element in A[:j+1]:\n",
    "    condition_holds = sum(x<element for x in A[j+1:])\n",
    "    total_holds+=condition_holds"
   ]
  },
  {
   "cell_type": "code",
   "execution_count": 176,
   "metadata": {},
   "outputs": [
    {
     "data": {
      "text/plain": [
       "0"
      ]
     },
     "execution_count": 176,
     "metadata": {},
     "output_type": "execute_result"
    }
   ],
   "source": [
    "total_holds"
   ]
  },
  {
   "cell_type": "markdown",
   "metadata": {},
   "source": [
    "## E."
   ]
  },
  {
   "cell_type": "code",
   "execution_count": 206,
   "metadata": {},
   "outputs": [],
   "source": [
    "def quicksort_hoare(A,p,r):\n",
    "    if r-p<1:\n",
    "        return\n",
    "    else:\n",
    "        q = hoare_partition(A,p,r)\n",
    "        print(f\"partition index is {q}\")\n",
    "        print(f\"parition elements is {A[q]}\")\n",
    "        quicksort_hoare(A,p,q-1)\n",
    "        quicksort_hoare(A,q+1,r)\n",
    "    return A"
   ]
  },
  {
   "cell_type": "code",
   "execution_count": 207,
   "metadata": {},
   "outputs": [
    {
     "name": "stdout",
     "output_type": "stream",
     "text": [
      "partition index is 9\n",
      "parition elements is 2\n",
      "partition index is 7\n",
      "parition elements is 4\n",
      "partition index is 5\n",
      "parition elements is 8\n",
      "partition index is 3\n",
      "parition elements is 5\n",
      "partition index is 1\n",
      "parition elements is 6\n",
      "partition index is 10\n",
      "parition elements is 19\n"
     ]
    },
    {
     "data": {
      "text/plain": [
       "[13, 6, 9, 5, 12, 8, 7, 4, 11, 2, 19, 21]"
      ]
     },
     "execution_count": 207,
     "metadata": {},
     "output_type": "execute_result"
    }
   ],
   "source": [
    "A = [13,19,9,5,12,8,7,4,11,2,6,21]\n",
    "quicksort_hoare(A,0,len(A)-1)"
   ]
  },
  {
   "cell_type": "markdown",
   "metadata": {},
   "source": [
    "## 7-2\n",
    "\n",
    "## A.\n",
    "\n",
    "When all values are equal we have $\\Theta(n^2)$ as this is the worst case example for quicksort algorithm."
   ]
  },
  {
   "cell_type": "markdown",
   "metadata": {},
   "source": [
    "## B."
   ]
  },
  {
   "cell_type": "code",
   "execution_count": 209,
   "metadata": {},
   "outputs": [],
   "source": [
    "def parition_modified(A,p,r):\n",
    "    x = A[r]\n",
    "    A[r], A[p] = A[p], A[r]\n",
    "    i = p-1\n",
    "    j = p\n",
    "    for k in range(p+1,r):\n",
    "        if A[k]<x:\n",
    "            i+=1\n",
    "            j=i+2\n",
    "            A[i], A[k] = A[k], A[i]\n",
    "            A[j], A[k] = A[k], A[j]\n",
    "        if A[k]==x:\n",
    "            j+=1\n",
    "            A[j], A[k] = A[k], A[j]\n",
    "    A[i+1], A[r] = A[r], A[i+1]\n",
    "    return i+1,j+1"
   ]
  },
  {
   "cell_type": "code",
   "execution_count": 211,
   "metadata": {},
   "outputs": [
    {
     "data": {
      "text/plain": [
       "(1, 12)"
      ]
     },
     "execution_count": 211,
     "metadata": {},
     "output_type": "execute_result"
    }
   ],
   "source": [
    "parition_modified(A,0,len(A)-1)"
   ]
  },
  {
   "cell_type": "code",
   "execution_count": 214,
   "metadata": {},
   "outputs": [],
   "source": [
    "def random_parition_modified(A,p,r):\n",
    "    i = randrange(p,r+1)\n",
    "    A[r], A[i] = A[i], A[r]\n",
    "    return parition_modified(A,p,r)"
   ]
  },
  {
   "cell_type": "code",
   "execution_count": 215,
   "metadata": {},
   "outputs": [],
   "source": [
    "def quicksort_modified(A,p,r):\n",
    "    if r-p<1:\n",
    "        return\n",
    "    else:\n",
    "        q,t = random_parition_modified(A,p,r)\n",
    "        print(f\"partition index is {q}\")\n",
    "        print(f\"parition elements is {A[q]}\")\n",
    "        quicksort_modified(A,p,q-1)\n",
    "        quicksort_modified(A,t+1,r)\n",
    "    return A"
   ]
  },
  {
   "cell_type": "code",
   "execution_count": 220,
   "metadata": {},
   "outputs": [],
   "source": [
    "A = [5,2,6,2,6,7,8,2,1]"
   ]
  },
  {
   "cell_type": "code",
   "execution_count": 221,
   "metadata": {},
   "outputs": [
    {
     "name": "stdout",
     "output_type": "stream",
     "text": [
      "partition index is 1\n",
      "parition elements is 8\n"
     ]
    },
    {
     "data": {
      "text/plain": [
       "[2, 8, 2, 6, 7, 1, 2, 5, 6]"
      ]
     },
     "execution_count": 221,
     "metadata": {},
     "output_type": "execute_result"
    }
   ],
   "source": [
    "quicksort_modified(A,0,len(A)-1)"
   ]
  },
  {
   "cell_type": "markdown",
   "metadata": {},
   "source": [
    "## 7-3\n",
    "\n",
    "## A.\n",
    "\n",
    "If we assume that all elements are distinct the probability of selecting the least element out of $n$ elements is $\\frac{1}{n}$. Therefore, $E[X_i]=\\frac{1}{n}$"
   ]
  },
  {
   "cell_type": "markdown",
   "metadata": {},
   "source": [
    "## B.\n",
    "\n",
    "The given formula comes from the the linearity of expectation. And when we use formula 7.1 we come to the one shown in 7.5"
   ]
  },
  {
   "cell_type": "code",
   "execution_count": null,
   "metadata": {},
   "outputs": [],
   "source": []
  }
 ],
 "metadata": {
  "kernelspec": {
   "display_name": "Python 3",
   "language": "python",
   "name": "python3"
  },
  "language_info": {
   "codemirror_mode": {
    "name": "ipython",
    "version": 3
   },
   "file_extension": ".py",
   "mimetype": "text/x-python",
   "name": "python",
   "nbconvert_exporter": "python",
   "pygments_lexer": "ipython3",
   "version": "3.6.9"
  }
 },
 "nbformat": 4,
 "nbformat_minor": 2
}
