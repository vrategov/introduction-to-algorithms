{
 "cells": [
  {
   "cell_type": "markdown",
   "metadata": {},
   "source": [
    "# 6.1 Heaps"
   ]
  },
  {
   "cell_type": "code",
   "execution_count": 1,
   "metadata": {},
   "outputs": [],
   "source": [
    "def parent(i):\n",
    "    import math\n",
    "    return math.floor(i/2)"
   ]
  },
  {
   "cell_type": "code",
   "execution_count": 2,
   "metadata": {},
   "outputs": [],
   "source": [
    "def left(i):\n",
    "    return 2*i + 1 "
   ]
  },
  {
   "cell_type": "code",
   "execution_count": 3,
   "metadata": {},
   "outputs": [],
   "source": [
    "def right(i):\n",
    "    return 2*i + 2"
   ]
  },
  {
   "cell_type": "markdown",
   "metadata": {},
   "source": [
    "# 6.2 Maintaining the heap property"
   ]
  },
  {
   "cell_type": "code",
   "execution_count": 4,
   "metadata": {},
   "outputs": [],
   "source": [
    "def max_heapify(A,n,i):\n",
    "    l = left(i)\n",
    "    r = right(i)\n",
    "    if l <= n-1 and A[l] > A[i]:\n",
    "        largest = l\n",
    "    else:\n",
    "        largest = i\n",
    "    if r <= n-1 and A[r] > A[largest]:\n",
    "        largest = r\n",
    "    if largest != i:\n",
    "        A[i], A[largest] = A[largest], A[i]\n",
    "        max_heapify(A,n,largest)\n",
    "    return A"
   ]
  },
  {
   "cell_type": "code",
   "execution_count": 5,
   "metadata": {},
   "outputs": [],
   "source": [
    "array = [16,4,10,14,7,9,3,2,8,1]"
   ]
  },
  {
   "cell_type": "code",
   "execution_count": 6,
   "metadata": {},
   "outputs": [
    {
     "data": {
      "text/plain": [
       "[16, 14, 10, 8, 7, 9, 3, 2, 4, 1]"
      ]
     },
     "execution_count": 6,
     "metadata": {},
     "output_type": "execute_result"
    }
   ],
   "source": [
    "max_heapify(array,len(array),1)"
   ]
  },
  {
   "cell_type": "markdown",
   "metadata": {},
   "source": [
    "## 6.2-2"
   ]
  },
  {
   "cell_type": "code",
   "execution_count": 7,
   "metadata": {},
   "outputs": [],
   "source": [
    "def min_heapify(A,n,i):\n",
    "    l = left(i)\n",
    "    r = right(i)\n",
    "    if l <= n-1 and A[l] < A[i]:\n",
    "        smallest = l\n",
    "    else:\n",
    "        smallest = i\n",
    "    if r <= n-1 and A[r] < A[smallest]:\n",
    "        smallest = r\n",
    "    if smallest != i:\n",
    "        A[i], A[smallest] = A[smallest], A[i]\n",
    "        min_heapify(A,n,smallest)\n",
    "    return A"
   ]
  },
  {
   "cell_type": "code",
   "execution_count": 8,
   "metadata": {
    "scrolled": true
   },
   "outputs": [
    {
     "data": {
      "text/plain": [
       "[16, 4, 10, 2, 7, 9, 3, 14, 8, 1]"
      ]
     },
     "execution_count": 8,
     "metadata": {},
     "output_type": "execute_result"
    }
   ],
   "source": [
    "array = [16,4,10,14,7,9,3,2,8,1]\n",
    "min_heapify(array,len(array),3)"
   ]
  },
  {
   "cell_type": "markdown",
   "metadata": {},
   "source": [
    "## 6.2-5"
   ]
  },
  {
   "cell_type": "code",
   "execution_count": 9,
   "metadata": {},
   "outputs": [],
   "source": [
    "def max_heapify_loop(A,i):\n",
    "    while True:\n",
    "        l = left(i)\n",
    "        r = right(i)\n",
    "        if l <= len(A) and A[l] > A[i]:\n",
    "            largest = l\n",
    "        else:\n",
    "            largest = i\n",
    "        if r <= len(A) and A[r] > A[largest]:\n",
    "            largest = r\n",
    "        if largest == i:\n",
    "            return\n",
    "        A[i], A[largest] = A[largest], A[i]\n",
    "        i = largest\n",
    "        return A"
   ]
  },
  {
   "cell_type": "code",
   "execution_count": 10,
   "metadata": {},
   "outputs": [
    {
     "data": {
      "text/plain": [
       "[16, 14, 10, 4, 7, 9, 3, 2, 8, 1]"
      ]
     },
     "execution_count": 10,
     "metadata": {},
     "output_type": "execute_result"
    }
   ],
   "source": [
    "array = [16,4,10,14,7,9,3,2,8,1]\n",
    "max_heapify_loop(array,1)"
   ]
  },
  {
   "cell_type": "markdown",
   "metadata": {},
   "source": [
    "# 6.3 Building a heap"
   ]
  },
  {
   "cell_type": "code",
   "execution_count": 11,
   "metadata": {},
   "outputs": [],
   "source": [
    "def build_max_heap(A):\n",
    "    import math\n",
    "    n = len(A)\n",
    "    for i in range(math.floor(n/2)-1,-1,-1):\n",
    "        max_heapify(A,n,i)\n",
    "    return A"
   ]
  },
  {
   "cell_type": "code",
   "execution_count": 12,
   "metadata": {},
   "outputs": [],
   "source": [
    "def build_min_heap(A):\n",
    "    import math\n",
    "    n = len(A)\n",
    "    for i in range(math.floor(n/2)-1,-1,-1):\n",
    "        min_heapify(A,n,i)\n",
    "    return A"
   ]
  },
  {
   "cell_type": "markdown",
   "metadata": {},
   "source": [
    "## 6.3-1"
   ]
  },
  {
   "cell_type": "code",
   "execution_count": 13,
   "metadata": {},
   "outputs": [
    {
     "data": {
      "text/plain": [
       "[84, 22, 19, 10, 3, 17, 6, 5, 9]"
      ]
     },
     "execution_count": 13,
     "metadata": {},
     "output_type": "execute_result"
    }
   ],
   "source": [
    "array = [5,3,17,10,84,19,6,22,9]\n",
    "build_max_heap(array)"
   ]
  },
  {
   "cell_type": "markdown",
   "metadata": {},
   "source": [
    "## 6.3-2\n",
    "\n",
    "If we start from the first element to $\\lfloor\\frac{n}{2}\\rfloor$ there is not guarantee that the we will have max-heaps."
   ]
  },
  {
   "cell_type": "markdown",
   "metadata": {},
   "source": [
    "## 6.3-3"
   ]
  },
  {
   "cell_type": "markdown",
   "metadata": {},
   "source": [
    "# 6.4 The heapsort algorithm"
   ]
  },
  {
   "cell_type": "code",
   "execution_count": 14,
   "metadata": {},
   "outputs": [],
   "source": [
    "def heapsort(A):\n",
    "    n = len(A)\n",
    "    A = build_max_heap(A)\n",
    "    for i in range(n-1,0,-1):\n",
    "        A[0], A[i] = A[i], A[0]\n",
    "        n -= 1\n",
    "        max_heapify(A,n,0)\n",
    "    return A"
   ]
  },
  {
   "cell_type": "markdown",
   "metadata": {},
   "source": [
    "## 6.4-1"
   ]
  },
  {
   "cell_type": "code",
   "execution_count": 15,
   "metadata": {},
   "outputs": [
    {
     "data": {
      "text/plain": [
       "[2, 4, 5, 7, 8, 13, 17, 20, 25]"
      ]
     },
     "execution_count": 15,
     "metadata": {},
     "output_type": "execute_result"
    }
   ],
   "source": [
    "array = [5,13,2,25,7,17,20,8,4]\n",
    "\n",
    "heapsort(array)"
   ]
  },
  {
   "cell_type": "markdown",
   "metadata": {},
   "source": [
    "## 6.4-2\n",
    "\n",
    "Before first iteration of the loop the whole array is a max-heap. In each consecutive iteration the array $A[1..i]$ is a max_heap and it contains i smallest elements because biggest elements are moved to the end of the array and their indeces are greater than $i$. And by the construction of the algorithm those elements are already sorted."
   ]
  },
  {
   "cell_type": "code",
   "execution_count": 16,
   "metadata": {},
   "outputs": [],
   "source": [
    "def heapsort_invariant(A):\n",
    "    n = len(A)\n",
    "    A = build_max_heap(A)\n",
    "    for i in range(n-1,0,-1):\n",
    "        print(f\"Array before loop iteration {A}\")\n",
    "        A[0], A[i] = A[i], A[0]\n",
    "        n -= 1\n",
    "        max_heapify(A,n,0)\n",
    "        print(f\"Array after loop iteration {A}\\n\")\n",
    "    return A"
   ]
  },
  {
   "cell_type": "code",
   "execution_count": 17,
   "metadata": {},
   "outputs": [
    {
     "name": "stdout",
     "output_type": "stream",
     "text": [
      "Array before loop iteration [25, 13, 20, 8, 7, 17, 2, 5, 4]\n",
      "Array after loop iteration [20, 13, 17, 8, 7, 4, 2, 5, 25]\n",
      "\n",
      "Array before loop iteration [20, 13, 17, 8, 7, 4, 2, 5, 25]\n",
      "Array after loop iteration [17, 13, 5, 8, 7, 4, 2, 20, 25]\n",
      "\n",
      "Array before loop iteration [17, 13, 5, 8, 7, 4, 2, 20, 25]\n",
      "Array after loop iteration [13, 8, 5, 2, 7, 4, 17, 20, 25]\n",
      "\n",
      "Array before loop iteration [13, 8, 5, 2, 7, 4, 17, 20, 25]\n",
      "Array after loop iteration [8, 7, 5, 2, 4, 13, 17, 20, 25]\n",
      "\n",
      "Array before loop iteration [8, 7, 5, 2, 4, 13, 17, 20, 25]\n",
      "Array after loop iteration [7, 4, 5, 2, 8, 13, 17, 20, 25]\n",
      "\n",
      "Array before loop iteration [7, 4, 5, 2, 8, 13, 17, 20, 25]\n",
      "Array after loop iteration [5, 4, 2, 7, 8, 13, 17, 20, 25]\n",
      "\n",
      "Array before loop iteration [5, 4, 2, 7, 8, 13, 17, 20, 25]\n",
      "Array after loop iteration [4, 2, 5, 7, 8, 13, 17, 20, 25]\n",
      "\n",
      "Array before loop iteration [4, 2, 5, 7, 8, 13, 17, 20, 25]\n",
      "Array after loop iteration [2, 4, 5, 7, 8, 13, 17, 20, 25]\n",
      "\n"
     ]
    },
    {
     "data": {
      "text/plain": [
       "[2, 4, 5, 7, 8, 13, 17, 20, 25]"
      ]
     },
     "execution_count": 17,
     "metadata": {},
     "output_type": "execute_result"
    }
   ],
   "source": [
    "array = [5,13,2,25,7,17,20,8,4]\n",
    "\n",
    "heapsort_invariant(array)"
   ]
  },
  {
   "cell_type": "markdown",
   "metadata": {},
   "source": [
    "## 6.4-3\n",
    "\n",
    "* Sorted array in increasing order:\n",
    "    - The call on **build_max_heap** will take $\\Theta(n\\lg{n})$ time\n",
    "    - The *for* loop has $n$ iterations and each call to **max_heapify** takes $\\lg n$ time, so the overal running time of the *for* loop is $\\Theta(n\\lg{n})$\n",
    "    - The whole **heapsort** algorithm will take  $\\Theta(n\\lg{n})$\n",
    "* Sorted array in decreasing order:\n",
    "    - The array is already a *max-heap* so **build_max_heap** will take only $\\Theta(n)$ time as it will make n calls to **max_heapify**, which in this scenario will take only constant time.\n",
    "    - However, the algorithm running time will be dominated by the *for* loop as it will still take $\\Theta(n\\lg{n})$\n"
   ]
  },
  {
   "cell_type": "markdown",
   "metadata": {},
   "source": [
    "## 6.4-4\n",
    "\n",
    "This problem is the same as one of the cases of **6.4-3**. The worst case scenario would be when the array is sorted in decreasing order. The worst-case running time of the algorithm will be $\\Theta(n\\lg{n})$"
   ]
  },
  {
   "cell_type": "markdown",
   "metadata": {},
   "source": [
    "## 6-4.5\n",
    "\n",
    "My logic for this problem is the same as in the case when the array is already sorted. But then I do not know how to use the information that the elements are distinct."
   ]
  },
  {
   "cell_type": "markdown",
   "metadata": {},
   "source": [
    "# 6.5 Priority queues"
   ]
  },
  {
   "cell_type": "code",
   "execution_count": 18,
   "metadata": {},
   "outputs": [],
   "source": [
    "def heap_maximum(A):\n",
    "    return A[0]"
   ]
  },
  {
   "cell_type": "code",
   "execution_count": 19,
   "metadata": {},
   "outputs": [],
   "source": [
    "def heap_extract_max(A,n):\n",
    "    if n < 1:\n",
    "        raise ValueError('heap underflow')\n",
    "    maximum = A[0]\n",
    "    A[0] = A[n-1]\n",
    "    n -= 1\n",
    "    max_heapify(A,n,0)\n",
    "    return maximum, A[:n]  "
   ]
  },
  {
   "cell_type": "code",
   "execution_count": 20,
   "metadata": {},
   "outputs": [],
   "source": [
    "def heap_increase_key(A,i,key):\n",
    "    if key < A[i-1]:\n",
    "        raise ValueError('new key is smaller than current key')\n",
    "    A[i] = key\n",
    "    while i>0 and A[parent(i)] < A[i]:\n",
    "        A[i], A[parent(i)] = A[parent(i)], A[i]\n",
    "        i = parent(i)"
   ]
  },
  {
   "cell_type": "code",
   "execution_count": 21,
   "metadata": {},
   "outputs": [],
   "source": [
    "def max_heap_insert(A,key):\n",
    "    A.append(-float('inf'))\n",
    "    n = len(A)\n",
    "    heap_increase_key(A,n-1,key)\n",
    "    return A"
   ]
  },
  {
   "cell_type": "markdown",
   "metadata": {},
   "source": [
    "## 6.5-1"
   ]
  },
  {
   "cell_type": "code",
   "execution_count": 22,
   "metadata": {},
   "outputs": [
    {
     "data": {
      "text/plain": [
       "[13, 12, 9, 5, 6, 8, 7, 4, 0, 1, 2]"
      ]
     },
     "execution_count": 22,
     "metadata": {},
     "output_type": "execute_result"
    }
   ],
   "source": [
    "A = [15,13,9,5,12,8,7,4,0,6,2,1]\n",
    "heap_extract_max(A,len(A))[1]"
   ]
  },
  {
   "cell_type": "markdown",
   "metadata": {},
   "source": [
    "## 6.5-2"
   ]
  },
  {
   "cell_type": "code",
   "execution_count": 23,
   "metadata": {},
   "outputs": [
    {
     "data": {
      "text/plain": [
       "[15, 13, 9, 10, 12, 8, 5, 4, 0, 6, 2, 1, 7]"
      ]
     },
     "execution_count": 23,
     "metadata": {},
     "output_type": "execute_result"
    }
   ],
   "source": [
    "A = [15,13,9,5,12,8,7,4,0,6,2,1]\n",
    "max_heap_insert(A,10)"
   ]
  },
  {
   "cell_type": "markdown",
   "metadata": {},
   "source": [
    "## 6.5-3"
   ]
  },
  {
   "cell_type": "code",
   "execution_count": 24,
   "metadata": {},
   "outputs": [],
   "source": [
    "def heap_minimum(A):\n",
    "    return A[0]"
   ]
  },
  {
   "cell_type": "code",
   "execution_count": 25,
   "metadata": {},
   "outputs": [],
   "source": [
    "def heap_extract_min(A,n):\n",
    "    if n < 1:\n",
    "        raise ValueError('heap underflow')\n",
    "    minimum = A[0]\n",
    "    A[0] = A[n-1]\n",
    "    n -= 1\n",
    "    min_heapify(A,n,0)\n",
    "    return minimum, A[:n]  "
   ]
  },
  {
   "cell_type": "code",
   "execution_count": 26,
   "metadata": {},
   "outputs": [],
   "source": [
    "def heap_decrease_key(A,i,key):\n",
    "    if key < A[i-1]:\n",
    "        raise ValueError('new key is smaller than current key')\n",
    "    A[-1] = key\n",
    "    n = len(A)\n",
    "    build_min_heap(A)"
   ]
  },
  {
   "cell_type": "code",
   "execution_count": 27,
   "metadata": {},
   "outputs": [],
   "source": [
    "def min_heap_insert(A,n,key):\n",
    "    A.append(-float('inf'))\n",
    "    n = len(A)\n",
    "    heap_decrease_key(A,n,key)\n",
    "    return A"
   ]
  },
  {
   "cell_type": "markdown",
   "metadata": {},
   "source": [
    "## 6.5-4\n",
    "\n",
    "We insert $-\\infty$ in order to make sure that an error will not be raised. However, I do not understand why we just don't add the element at the end and skip several opearions - insert $-\\infty$, compare it with the new key, replace those two."
   ]
  },
  {
   "cell_type": "markdown",
   "metadata": {},
   "source": [
    "## 6.5-5\n",
    "\n",
    "At the beginning we have a heap structure and we replace the last ($i$th) element with the new key value. The only possible parent-child pair where the heap property my not held is between the $i$th element and its parent. This is true in the next iterations until the heap property is restored."
   ]
  },
  {
   "cell_type": "markdown",
   "metadata": {},
   "source": [
    "## 6.5-6\n",
    "\n",
    "In my implementation I cannot replace anything."
   ]
  },
  {
   "cell_type": "markdown",
   "metadata": {},
   "source": [
    "## 6.5-7\n",
    "\n"
   ]
  },
  {
   "cell_type": "markdown",
   "metadata": {},
   "source": [
    "## 6.5-8"
   ]
  },
  {
   "cell_type": "code",
   "execution_count": 28,
   "metadata": {},
   "outputs": [],
   "source": [
    "def heap_delete(A,i):\n",
    "    A[i] = float('inf')\n",
    "    n = len(A)\n",
    "    build_max_heap(A)\n",
    "    A[0], A[-1] = A[-1], A[0]\n",
    "    del A[-1]    \n",
    "    build_max_heap(A)\n",
    "    return A"
   ]
  },
  {
   "cell_type": "code",
   "execution_count": 29,
   "metadata": {},
   "outputs": [
    {
     "data": {
      "text/plain": [
       "[15, 13, 9, 5, 6, 8, 7, 4, 0, 1, 2]"
      ]
     },
     "execution_count": 29,
     "metadata": {},
     "output_type": "execute_result"
    }
   ],
   "source": [
    "A = [15,13,9,5,12,8,7,4,0,6,2,1]\n",
    "heap_delete(A,4)"
   ]
  },
  {
   "cell_type": "markdown",
   "metadata": {},
   "source": [
    "Unfortunately I cant think of a way to run this is $\\lg n$ time. My implementation runs for $n\\lg n$ because of **build_max_heap**"
   ]
  },
  {
   "cell_type": "markdown",
   "metadata": {},
   "source": [
    "## 6.5-9\n",
    "\n",
    "Take the first element in all of the $k$ sorted lists. Run **min_heapify** at the root. Then from the $k$ lists get the minimum element out of all $k$ first element. Append it in the heap array and run **min_heapify** in the position of its parent. Continue with this. We will run this $n$ times, but I am not sure if **min_heapify** will run for $lg k$ or $lg n$ time."
   ]
  },
  {
   "cell_type": "markdown",
   "metadata": {},
   "source": [
    "# Problems"
   ]
  },
  {
   "cell_type": "markdown",
   "metadata": {},
   "source": [
    "## 6-1\n",
    "### a."
   ]
  },
  {
   "cell_type": "code",
   "execution_count": 30,
   "metadata": {},
   "outputs": [],
   "source": [
    "def build_max_heap2(A):\n",
    "    for i in range (1,len(A)):\n",
    "        B = max_heap_insert(A[:i],A[i])\n",
    "    return B"
   ]
  },
  {
   "cell_type": "code",
   "execution_count": 31,
   "metadata": {},
   "outputs": [
    {
     "name": "stdout",
     "output_type": "stream",
     "text": [
      "[5, 1, 2, 4, 3]\n",
      "[5, 4, 3, 1, 2]\n"
     ]
    }
   ],
   "source": [
    "A = [1,2,3,4,5]\n",
    "print(build_max_heap2(A))\n",
    "print(build_max_heap(A))"
   ]
  },
  {
   "cell_type": "markdown",
   "metadata": {},
   "source": [
    "### b.\n",
    "\n",
    "Calling *max_heap_insert* takes $\\Theta (\\lg n)$ time. And we call it $n-1$ times. So, the overall running time of *build_max_heap2* is $\\Theta (n\\lg n)$"
   ]
  },
  {
   "cell_type": "markdown",
   "metadata": {},
   "source": [
    "## 6-2\n",
    "### a.\n",
    "\n",
    "The root of the heap will be still at $A[1]$. The root children are located in elements from $A[2]$ to $A[d+1]$. The second generation of children are located in elements from $A[d+2]$ to $A[(d+1)^2]$.\n",
    "\n",
    "We can get the parent of an element in a **d-ary heap** by replacing in the formula for *parent* $2$ with $d$"
   ]
  },
  {
   "cell_type": "code",
   "execution_count": 32,
   "metadata": {},
   "outputs": [],
   "source": [
    "def parent_d(i,d):\n",
    "    import math\n",
    "    return math.floor(i/d)"
   ]
  },
  {
   "cell_type": "code",
   "execution_count": 33,
   "metadata": {},
   "outputs": [],
   "source": [
    "def child_d(i,d,k):\n",
    "    return d*i + k + 1"
   ]
  },
  {
   "cell_type": "code",
   "execution_count": 34,
   "metadata": {},
   "outputs": [
    {
     "data": {
      "text/plain": [
       "1"
      ]
     },
     "execution_count": 34,
     "metadata": {},
     "output_type": "execute_result"
    }
   ],
   "source": [
    "#check the function\n",
    "parent_d(child_d(1,4,2),4)"
   ]
  },
  {
   "cell_type": "markdown",
   "metadata": {},
   "source": [
    "### b.\n",
    "Analogically to the binary heap, a d-ary heap's height would be $\\log_dn = \\frac{\\lg n}{\\lg d}$"
   ]
  },
  {
   "cell_type": "markdown",
   "metadata": {},
   "source": [
    "### c.\n",
    "\n",
    "The *heap_extract_max* would work for **d-ary heap** if we make a change in *max_heapify*. The necessary change is that instead of comparing with just two children in the case of a binary heap, we need to make the comparison with **d** children."
   ]
  },
  {
   "cell_type": "code",
   "execution_count": 35,
   "metadata": {},
   "outputs": [],
   "source": [
    "def heap_extract_max_d(A,n):\n",
    "    if n < 1:\n",
    "        raise ValueError('heap underflow')\n",
    "    maximum = A[0]\n",
    "    A[0] = A[n-1]\n",
    "    n -= 1\n",
    "    max_heapify_d(A,n,0)\n",
    "    return maximum, A[:n]  "
   ]
  },
  {
   "cell_type": "code",
   "execution_count": 36,
   "metadata": {},
   "outputs": [],
   "source": [
    "def max_heapify_d(A,n,i,d):\n",
    "    largest = i\n",
    "    for j in range(1,d+1):\n",
    "        if child_d(i,d,j)<= n-1 and A[child_d(i,d,j)] > A[i] and A[child_d(i,d,j)] > A[i] > largest:\n",
    "            largest = A[d-ARY-CHILD(k, i)]\n",
    "    if largest != i:\n",
    "        A[i], A[largest] = A[largest], A[i]\n",
    "        max_heapify_d(A,n,largest,d)\n",
    "    return A"
   ]
  },
  {
   "cell_type": "markdown",
   "metadata": {},
   "source": [
    "The complexity of *heap_extract_max_d*, as well as in the case of the binary heap, is connected to *max_heapify_d* procedure. It depends on how many children each element has ($d$) and the height of the heap ($\\log_dn$). The running time of *heap_extract_max_d* is $\\Theta(d\\log_dn)$."
   ]
  },
  {
   "cell_type": "markdown",
   "metadata": {},
   "source": [
    "### d.\n",
    "For this task, we need to change a bit the function *heap_increase_key*. More specifically, the part which calculates the parent. Apart from that, the original *heap_increase_key* functions should work. The running time is $\\Theta(\\log_dn)$ - comes from the height of the **d-ary** heap which sets the running time of *heap_increase_key_d*."
   ]
  },
  {
   "cell_type": "code",
   "execution_count": 37,
   "metadata": {},
   "outputs": [],
   "source": [
    "def heap_increase_key_d(A,i,key,d):\n",
    "    if key < A[i-1]:\n",
    "        raise ValueError('new key is smaller than current key')\n",
    "    A[i] = key\n",
    "    while i>0 and A[parent_d(i,d)] < A[i]:\n",
    "        A[i], A[parent_d(i,d)] = A[parent_d(i,d)], A[i]\n",
    "        i = parent_d(i,d)"
   ]
  },
  {
   "cell_type": "code",
   "execution_count": 38,
   "metadata": {},
   "outputs": [],
   "source": [
    "def max_heap_insert_d(A,key,d):\n",
    "    A.append(-float('inf'))\n",
    "    n = len(A)\n",
    "    heap_increase_key_d(A,n-1,key,d)\n",
    "    return A"
   ]
  },
  {
   "cell_type": "markdown",
   "metadata": {},
   "source": [
    "### e.\n",
    "The solution to this problem is shown in the previous section."
   ]
  },
  {
   "cell_type": "markdown",
   "metadata": {},
   "source": [
    "## 6-3\n",
    "### a."
   ]
  },
  {
   "cell_type": "code",
   "execution_count": 39,
   "metadata": {},
   "outputs": [
    {
     "data": {
      "text/plain": [
       "array([[ 2.,  3.,  4.],\n",
       "       [ 5.,  8.,  9.],\n",
       "       [12., 14., 16.]])"
      ]
     },
     "execution_count": 39,
     "metadata": {},
     "output_type": "execute_result"
    }
   ],
   "source": [
    "import numpy as np\n",
    "Y = np.array([(2,3,4), (5,8,9), (12,14,16)],dtype=np.float)\n",
    "Y"
   ]
  },
  {
   "cell_type": "markdown",
   "metadata": {},
   "source": [
    "### b.\n",
    "Following the definition of **Young tableau**, if the first element, $Y[1,1]$ is $\\infty$, then this would mean that the smallest element is $\\infty$. Therefore, all other elements must be at least $\\infty$. This would mean that $Y$ is empty. Analogically, we can conlcude that $Y$ is full if the last element, $Y[m,n]<\\infty$\n",
    "\n",
    "### c."
   ]
  },
  {
   "cell_type": "code",
   "execution_count": 40,
   "metadata": {},
   "outputs": [],
   "source": [
    "#not working\n",
    "def extract_min_yt(Y,i,j):\n",
    "    minimum = Y[i,j]\n",
    "    Y[i,j] = float('inf')\n",
    "    if i >= Y.shape[0]-1 or j >= Y.shape[1]-1:\n",
    "        return minimum\n",
    "    if Y[i,j+1] == Y[i+1,j] == float('inf'):\n",
    "        Y[i,j] = float('inf')\n",
    "        return minimum\n",
    "    if Y[i,j+1] < Y[i+1,j]:\n",
    "        Y[i,j] = Y[i,j+1]\n",
    "        Y[i,j+1]=minimum\n",
    "        return extract_min_yt(Y,i,j+1)\n",
    "    else:\n",
    "        Y[i,j] = Y[i+1,j]\n",
    "        Y[i+1,j]=minimum\n",
    "        return extract_min_yt(Y,i+1,j)"
   ]
  },
  {
   "cell_type": "code",
   "execution_count": 41,
   "metadata": {},
   "outputs": [
    {
     "data": {
      "text/plain": [
       "2.0"
      ]
     },
     "execution_count": 41,
     "metadata": {},
     "output_type": "execute_result"
    }
   ],
   "source": [
    "extract_min_yt(Y,0,0)"
   ]
  },
  {
   "cell_type": "code",
   "execution_count": 42,
   "metadata": {},
   "outputs": [
    {
     "data": {
      "text/plain": [
       "array([[ 3.,  4., inf],\n",
       "       [ 5.,  8.,  9.],\n",
       "       [12., 14., 16.]])"
      ]
     },
     "execution_count": 42,
     "metadata": {},
     "output_type": "execute_result"
    }
   ],
   "source": [
    "Y"
   ]
  },
  {
   "cell_type": "markdown",
   "metadata": {},
   "source": [
    "### d."
   ]
  },
  {
   "cell_type": "code",
   "execution_count": 43,
   "metadata": {},
   "outputs": [],
   "source": [
    "#not working\n",
    "\n",
    "def insert_yt(Y,key):\n",
    "    i = Y.shape[0]-1\n",
    "    j = Y.shape[1]-1\n",
    "    Y[i, j] = key\n",
    "    while Y[i-1, j] > Y[i, j] or Y[i, j-1] > Y[i, j]:\n",
    "        if Y[i-1, j] < Y[i, j-1]:\n",
    "            Y[i, j], Y[i, j-1] = Y[i, j-1], Y[i, j]\n",
    "            j-=1\n",
    "        else:\n",
    "            Y[i, j], Y[i-1, j] = Y[i-1, j], Y[i, j]\n",
    "            i-=1"
   ]
  },
  {
   "cell_type": "code",
   "execution_count": 44,
   "metadata": {},
   "outputs": [
    {
     "ename": "IndexError",
     "evalue": "index -4 is out of bounds for axis 1 with size 3",
     "output_type": "error",
     "traceback": [
      "\u001b[0;31m---------------------------------------------------------------------------\u001b[0m",
      "\u001b[0;31mIndexError\u001b[0m                                Traceback (most recent call last)",
      "\u001b[0;32m<ipython-input-44-4d77fbaac677>\u001b[0m in \u001b[0;36m<module>\u001b[0;34m\u001b[0m\n\u001b[1;32m      1\u001b[0m \u001b[0mY\u001b[0m \u001b[0;34m=\u001b[0m \u001b[0mnp\u001b[0m\u001b[0;34m.\u001b[0m\u001b[0marray\u001b[0m\u001b[0;34m(\u001b[0m\u001b[0;34m[\u001b[0m\u001b[0;34m(\u001b[0m\u001b[0;36m2\u001b[0m\u001b[0;34m,\u001b[0m\u001b[0;36m3\u001b[0m\u001b[0;34m,\u001b[0m\u001b[0;36m4\u001b[0m\u001b[0;34m)\u001b[0m\u001b[0;34m,\u001b[0m \u001b[0;34m(\u001b[0m\u001b[0;36m5\u001b[0m\u001b[0;34m,\u001b[0m\u001b[0;36m8\u001b[0m\u001b[0;34m,\u001b[0m\u001b[0;36m9\u001b[0m\u001b[0;34m)\u001b[0m\u001b[0;34m,\u001b[0m \u001b[0;34m(\u001b[0m\u001b[0;36m12\u001b[0m\u001b[0;34m,\u001b[0m\u001b[0;36m14\u001b[0m\u001b[0;34m,\u001b[0m\u001b[0;36m16\u001b[0m\u001b[0;34m)\u001b[0m\u001b[0;34m]\u001b[0m\u001b[0;34m,\u001b[0m\u001b[0mdtype\u001b[0m\u001b[0;34m=\u001b[0m\u001b[0mnp\u001b[0m\u001b[0;34m.\u001b[0m\u001b[0mfloat\u001b[0m\u001b[0;34m)\u001b[0m\u001b[0;34m\u001b[0m\u001b[0;34m\u001b[0m\u001b[0m\n\u001b[1;32m      2\u001b[0m \u001b[0;34m\u001b[0m\u001b[0m\n\u001b[0;32m----> 3\u001b[0;31m \u001b[0minsert_yt\u001b[0m\u001b[0;34m(\u001b[0m\u001b[0mY\u001b[0m\u001b[0;34m,\u001b[0m\u001b[0;36m1\u001b[0m\u001b[0;34m)\u001b[0m\u001b[0;34m\u001b[0m\u001b[0;34m\u001b[0m\u001b[0m\n\u001b[0m",
      "\u001b[0;32m<ipython-input-43-4b7dd391a8bb>\u001b[0m in \u001b[0;36minsert_yt\u001b[0;34m(Y, key)\u001b[0m\n\u001b[1;32m      6\u001b[0m     \u001b[0mY\u001b[0m\u001b[0;34m[\u001b[0m\u001b[0mi\u001b[0m\u001b[0;34m,\u001b[0m \u001b[0mj\u001b[0m\u001b[0;34m]\u001b[0m \u001b[0;34m=\u001b[0m \u001b[0mkey\u001b[0m\u001b[0;34m\u001b[0m\u001b[0;34m\u001b[0m\u001b[0m\n\u001b[1;32m      7\u001b[0m     \u001b[0;32mwhile\u001b[0m \u001b[0mY\u001b[0m\u001b[0;34m[\u001b[0m\u001b[0mi\u001b[0m\u001b[0;34m-\u001b[0m\u001b[0;36m1\u001b[0m\u001b[0;34m,\u001b[0m \u001b[0mj\u001b[0m\u001b[0;34m]\u001b[0m \u001b[0;34m>\u001b[0m \u001b[0mY\u001b[0m\u001b[0;34m[\u001b[0m\u001b[0mi\u001b[0m\u001b[0;34m,\u001b[0m \u001b[0mj\u001b[0m\u001b[0;34m]\u001b[0m \u001b[0;32mor\u001b[0m \u001b[0mY\u001b[0m\u001b[0;34m[\u001b[0m\u001b[0mi\u001b[0m\u001b[0;34m,\u001b[0m \u001b[0mj\u001b[0m\u001b[0;34m-\u001b[0m\u001b[0;36m1\u001b[0m\u001b[0;34m]\u001b[0m \u001b[0;34m>\u001b[0m \u001b[0mY\u001b[0m\u001b[0;34m[\u001b[0m\u001b[0mi\u001b[0m\u001b[0;34m,\u001b[0m \u001b[0mj\u001b[0m\u001b[0;34m]\u001b[0m\u001b[0;34m:\u001b[0m\u001b[0;34m\u001b[0m\u001b[0;34m\u001b[0m\u001b[0m\n\u001b[0;32m----> 8\u001b[0;31m         \u001b[0;32mif\u001b[0m \u001b[0mY\u001b[0m\u001b[0;34m[\u001b[0m\u001b[0mi\u001b[0m\u001b[0;34m-\u001b[0m\u001b[0;36m1\u001b[0m\u001b[0;34m,\u001b[0m \u001b[0mj\u001b[0m\u001b[0;34m]\u001b[0m \u001b[0;34m<\u001b[0m \u001b[0mY\u001b[0m\u001b[0;34m[\u001b[0m\u001b[0mi\u001b[0m\u001b[0;34m,\u001b[0m \u001b[0mj\u001b[0m\u001b[0;34m-\u001b[0m\u001b[0;36m1\u001b[0m\u001b[0;34m]\u001b[0m\u001b[0;34m:\u001b[0m\u001b[0;34m\u001b[0m\u001b[0;34m\u001b[0m\u001b[0m\n\u001b[0m\u001b[1;32m      9\u001b[0m             \u001b[0mY\u001b[0m\u001b[0;34m[\u001b[0m\u001b[0mi\u001b[0m\u001b[0;34m,\u001b[0m \u001b[0mj\u001b[0m\u001b[0;34m]\u001b[0m\u001b[0;34m,\u001b[0m \u001b[0mY\u001b[0m\u001b[0;34m[\u001b[0m\u001b[0mi\u001b[0m\u001b[0;34m,\u001b[0m \u001b[0mj\u001b[0m\u001b[0;34m-\u001b[0m\u001b[0;36m1\u001b[0m\u001b[0;34m]\u001b[0m \u001b[0;34m=\u001b[0m \u001b[0mY\u001b[0m\u001b[0;34m[\u001b[0m\u001b[0mi\u001b[0m\u001b[0;34m,\u001b[0m \u001b[0mj\u001b[0m\u001b[0;34m-\u001b[0m\u001b[0;36m1\u001b[0m\u001b[0;34m]\u001b[0m\u001b[0;34m,\u001b[0m \u001b[0mY\u001b[0m\u001b[0;34m[\u001b[0m\u001b[0mi\u001b[0m\u001b[0;34m,\u001b[0m \u001b[0mj\u001b[0m\u001b[0;34m]\u001b[0m\u001b[0;34m\u001b[0m\u001b[0;34m\u001b[0m\u001b[0m\n\u001b[1;32m     10\u001b[0m             \u001b[0mj\u001b[0m\u001b[0;34m-=\u001b[0m\u001b[0;36m1\u001b[0m\u001b[0;34m\u001b[0m\u001b[0;34m\u001b[0m\u001b[0m\n",
      "\u001b[0;31mIndexError\u001b[0m: index -4 is out of bounds for axis 1 with size 3"
     ]
    }
   ],
   "source": [
    "Y = np.array([(2,3,4), (5,8,9), (12,14,16)],dtype=np.float)\n",
    "\n",
    "insert_yt(Y,1)"
   ]
  },
  {
   "cell_type": "markdown",
   "metadata": {},
   "source": [
    "### e.\n",
    "Starting from an empty **Young Tableau** we will be using the function *insert_yt* for each element for a total of $n^2$ times. Then do the actual sorting by calling the function *extract_min_yt* $n^2$ times and then store the new sorted array. "
   ]
  },
  {
   "cell_type": "markdown",
   "metadata": {},
   "source": [
    "### f."
   ]
  },
  {
   "cell_type": "code",
   "execution_count": 45,
   "metadata": {},
   "outputs": [],
   "source": [
    "def search_yt(Y,key):\n",
    "    i=j= 0\n",
    "    while i< Y.shape[0] and Y[i,j] <= key:\n",
    "        if Y[i, j] == key:\n",
    "            return True\n",
    "        i+=1\n",
    "    i-=1\n",
    "    while j < Y.shape[1] and (i >= 0 and i < Y.shape[0]):\n",
    "        if Y[i, j] == key:\n",
    "            return True\n",
    "        if Y[i, j] < key:\n",
    "            j+=1\n",
    "        else:\n",
    "            i-=1\n",
    "    return False\n",
    "            \n",
    "        "
   ]
  },
  {
   "cell_type": "code",
   "execution_count": 46,
   "metadata": {},
   "outputs": [
    {
     "data": {
      "text/plain": [
       "array([[ 2.,  3.,  4.],\n",
       "       [ 5.,  8.,  9.],\n",
       "       [12., 14., 16.]])"
      ]
     },
     "execution_count": 46,
     "metadata": {},
     "output_type": "execute_result"
    }
   ],
   "source": [
    "Y = np.array([(2,3,4), (5,8,9), (12,14,16)],dtype=np.float)\n",
    "Y"
   ]
  },
  {
   "cell_type": "code",
   "execution_count": 47,
   "metadata": {},
   "outputs": [
    {
     "data": {
      "text/plain": [
       "False"
      ]
     },
     "execution_count": 47,
     "metadata": {},
     "output_type": "execute_result"
    }
   ],
   "source": [
    "search_yt(Y,15)"
   ]
  },
  {
   "cell_type": "code",
   "execution_count": 48,
   "metadata": {},
   "outputs": [
    {
     "data": {
      "text/plain": [
       "True"
      ]
     },
     "execution_count": 48,
     "metadata": {},
     "output_type": "execute_result"
    }
   ],
   "source": [
    "search_yt(Y,8)"
   ]
  },
  {
   "cell_type": "code",
   "execution_count": null,
   "metadata": {},
   "outputs": [],
   "source": []
  }
 ],
 "metadata": {
  "kernelspec": {
   "display_name": "Python 3",
   "language": "python",
   "name": "python3"
  },
  "language_info": {
   "codemirror_mode": {
    "name": "ipython",
    "version": 3
   },
   "file_extension": ".py",
   "mimetype": "text/x-python",
   "name": "python",
   "nbconvert_exporter": "python",
   "pygments_lexer": "ipython3",
   "version": "3.6.9"
  }
 },
 "nbformat": 4,
 "nbformat_minor": 2
}
