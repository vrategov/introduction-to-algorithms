{
 "cells": [
  {
   "cell_type": "markdown",
   "metadata": {},
   "source": [
    "# 6.1 Heaps"
   ]
  },
  {
   "cell_type": "code",
   "execution_count": 1,
   "metadata": {},
   "outputs": [],
   "source": [
    "def parent(i):\n",
    "    import math\n",
    "    return math.floor(i/2)"
   ]
  },
  {
   "cell_type": "code",
   "execution_count": 2,
   "metadata": {},
   "outputs": [],
   "source": [
    "def left(i):\n",
    "    return 2*i + 1 "
   ]
  },
  {
   "cell_type": "code",
   "execution_count": 3,
   "metadata": {},
   "outputs": [],
   "source": [
    "def right(i):\n",
    "    return 2*i + 2"
   ]
  },
  {
   "cell_type": "markdown",
   "metadata": {},
   "source": [
    "# 6.2 Maintaining the heap property"
   ]
  },
  {
   "cell_type": "code",
   "execution_count": 4,
   "metadata": {},
   "outputs": [],
   "source": [
    "def max_heapify(A,n,i):\n",
    "    l = left(i)\n",
    "    r = right(i)\n",
    "    if l <= n-1 and A[l] > A[i]:\n",
    "        largest = l\n",
    "    else:\n",
    "        largest = i\n",
    "    if r <= n-1 and A[r] > A[largest]:\n",
    "        largest = r\n",
    "    if largest != i:\n",
    "        A[i], A[largest] = A[largest], A[i]\n",
    "        max_heapify(A,n,largest)\n",
    "    return A"
   ]
  },
  {
   "cell_type": "code",
   "execution_count": 5,
   "metadata": {},
   "outputs": [],
   "source": [
    "array = [16,4,10,14,7,9,3,2,8,1]"
   ]
  },
  {
   "cell_type": "code",
   "execution_count": 6,
   "metadata": {},
   "outputs": [
    {
     "data": {
      "text/plain": [
       "[16, 14, 10, 8, 7, 9, 3, 2, 4, 1]"
      ]
     },
     "execution_count": 6,
     "metadata": {},
     "output_type": "execute_result"
    }
   ],
   "source": [
    "max_heapify(array,len(array),1)"
   ]
  },
  {
   "cell_type": "markdown",
   "metadata": {},
   "source": [
    "## 6.2-2"
   ]
  },
  {
   "cell_type": "code",
   "execution_count": 7,
   "metadata": {},
   "outputs": [],
   "source": [
    "def min_heapify(A,n,i):\n",
    "    l = left(i)\n",
    "    r = right(i)\n",
    "    if l <= n-1 and A[l] < A[i]:\n",
    "        smallest = l\n",
    "    else:\n",
    "        smallest = i\n",
    "    if r <= n-1 and A[r] < A[smallest]:\n",
    "        smallest = r\n",
    "    if smallest != i:\n",
    "        A[i], A[smallest] = A[smallest], A[i]\n",
    "        min_heapify(A,n,smallest)\n",
    "    return A"
   ]
  },
  {
   "cell_type": "code",
   "execution_count": 8,
   "metadata": {
    "scrolled": true
   },
   "outputs": [
    {
     "data": {
      "text/plain": [
       "[16, 4, 10, 2, 7, 9, 3, 14, 8, 1]"
      ]
     },
     "execution_count": 8,
     "metadata": {},
     "output_type": "execute_result"
    }
   ],
   "source": [
    "array = [16,4,10,14,7,9,3,2,8,1]\n",
    "min_heapify(array,len(array),3)"
   ]
  },
  {
   "cell_type": "markdown",
   "metadata": {},
   "source": [
    "## 6.2-5"
   ]
  },
  {
   "cell_type": "code",
   "execution_count": 9,
   "metadata": {},
   "outputs": [],
   "source": [
    "def max_heapify_loop(A,i):\n",
    "    while True:\n",
    "        l = left(i)\n",
    "        r = right(i)\n",
    "        if l <= len(A) and A[l] > A[i]:\n",
    "            largest = l\n",
    "        else:\n",
    "            largest = i\n",
    "        if r <= len(A) and A[r] > A[largest]:\n",
    "            largest = r\n",
    "        if largest == i:\n",
    "            return\n",
    "        A[i], A[largest] = A[largest], A[i]\n",
    "        i = largest\n",
    "        return A"
   ]
  },
  {
   "cell_type": "code",
   "execution_count": 10,
   "metadata": {},
   "outputs": [
    {
     "data": {
      "text/plain": [
       "[16, 14, 10, 4, 7, 9, 3, 2, 8, 1]"
      ]
     },
     "execution_count": 10,
     "metadata": {},
     "output_type": "execute_result"
    }
   ],
   "source": [
    "array = [16,4,10,14,7,9,3,2,8,1]\n",
    "max_heapify_loop(array,1)"
   ]
  },
  {
   "cell_type": "markdown",
   "metadata": {},
   "source": [
    "# 6.3 Building a heap"
   ]
  },
  {
   "cell_type": "code",
   "execution_count": 11,
   "metadata": {},
   "outputs": [],
   "source": [
    "def build_max_heap(A):\n",
    "    import math\n",
    "    n = len(A)\n",
    "    for i in range(math.floor(n/2)-1,-1,-1):\n",
    "        max_heapify(A,n,i)\n",
    "    return A"
   ]
  },
  {
   "cell_type": "code",
   "execution_count": 12,
   "metadata": {},
   "outputs": [],
   "source": [
    "def build_min_heap(A):\n",
    "    import math\n",
    "    n = len(A)\n",
    "    for i in range(math.floor(n/2)-1,-1,-1):\n",
    "        min_heapify(A,n,i)\n",
    "    return A"
   ]
  },
  {
   "cell_type": "markdown",
   "metadata": {},
   "source": [
    "## 6.3-1"
   ]
  },
  {
   "cell_type": "code",
   "execution_count": 13,
   "metadata": {},
   "outputs": [
    {
     "data": {
      "text/plain": [
       "[84, 22, 19, 10, 3, 17, 6, 5, 9]"
      ]
     },
     "execution_count": 13,
     "metadata": {},
     "output_type": "execute_result"
    }
   ],
   "source": [
    "array = [5,3,17,10,84,19,6,22,9]\n",
    "build_max_heap(array)"
   ]
  },
  {
   "cell_type": "markdown",
   "metadata": {},
   "source": [
    "## 6.3-2\n",
    "\n",
    "If we start from the first element to $\\lfloor\\frac{n}{2}\\rfloor$ there is not guarantee that the we will have max-heaps."
   ]
  },
  {
   "cell_type": "markdown",
   "metadata": {},
   "source": [
    "## 6.3-3"
   ]
  },
  {
   "cell_type": "markdown",
   "metadata": {},
   "source": [
    "# 6.4 The heapsort algorithm"
   ]
  },
  {
   "cell_type": "code",
   "execution_count": 14,
   "metadata": {},
   "outputs": [],
   "source": [
    "def heapsort(A):\n",
    "    n = len(A)\n",
    "    A = build_max_heap(A)\n",
    "    for i in range(n-1,0,-1):\n",
    "        A[0], A[i] = A[i], A[0]\n",
    "        n -= 1\n",
    "        max_heapify(A,n,0)\n",
    "    return A"
   ]
  },
  {
   "cell_type": "markdown",
   "metadata": {},
   "source": [
    "## 6.4-1"
   ]
  },
  {
   "cell_type": "code",
   "execution_count": 15,
   "metadata": {},
   "outputs": [
    {
     "data": {
      "text/plain": [
       "[2, 4, 5, 7, 8, 13, 17, 20, 25]"
      ]
     },
     "execution_count": 15,
     "metadata": {},
     "output_type": "execute_result"
    }
   ],
   "source": [
    "array = [5,13,2,25,7,17,20,8,4]\n",
    "\n",
    "heapsort(array)"
   ]
  },
  {
   "cell_type": "markdown",
   "metadata": {},
   "source": [
    "## 6.4-2\n",
    "\n",
    "Before first iteration of the loop the whole array is a max-heap. In each consecutive iteration the array $A[1..i]$ is a max_heap and it contains i smallest elements because biggest elements are moved to the end of the array and their indeces are greater than $i$. And by the construction of the algorithm those elements are already sorted."
   ]
  },
  {
   "cell_type": "code",
   "execution_count": 16,
   "metadata": {},
   "outputs": [],
   "source": [
    "def heapsort_invariant(A):\n",
    "    n = len(A)\n",
    "    A = build_max_heap(A)\n",
    "    for i in range(n-1,0,-1):\n",
    "        print(f\"Array before loop iteration {A}\")\n",
    "        A[0], A[i] = A[i], A[0]\n",
    "        n -= 1\n",
    "        max_heapify(A,n,0)\n",
    "        print(f\"Array after loop iteration {A}\\n\")\n",
    "    return A"
   ]
  },
  {
   "cell_type": "code",
   "execution_count": 17,
   "metadata": {},
   "outputs": [
    {
     "name": "stdout",
     "output_type": "stream",
     "text": [
      "Array before loop iteration [25, 13, 20, 8, 7, 17, 2, 5, 4]\n",
      "Array after loop iteration [20, 13, 17, 8, 7, 4, 2, 5, 25]\n",
      "\n",
      "Array before loop iteration [20, 13, 17, 8, 7, 4, 2, 5, 25]\n",
      "Array after loop iteration [17, 13, 5, 8, 7, 4, 2, 20, 25]\n",
      "\n",
      "Array before loop iteration [17, 13, 5, 8, 7, 4, 2, 20, 25]\n",
      "Array after loop iteration [13, 8, 5, 2, 7, 4, 17, 20, 25]\n",
      "\n",
      "Array before loop iteration [13, 8, 5, 2, 7, 4, 17, 20, 25]\n",
      "Array after loop iteration [8, 7, 5, 2, 4, 13, 17, 20, 25]\n",
      "\n",
      "Array before loop iteration [8, 7, 5, 2, 4, 13, 17, 20, 25]\n",
      "Array after loop iteration [7, 4, 5, 2, 8, 13, 17, 20, 25]\n",
      "\n",
      "Array before loop iteration [7, 4, 5, 2, 8, 13, 17, 20, 25]\n",
      "Array after loop iteration [5, 4, 2, 7, 8, 13, 17, 20, 25]\n",
      "\n",
      "Array before loop iteration [5, 4, 2, 7, 8, 13, 17, 20, 25]\n",
      "Array after loop iteration [4, 2, 5, 7, 8, 13, 17, 20, 25]\n",
      "\n",
      "Array before loop iteration [4, 2, 5, 7, 8, 13, 17, 20, 25]\n",
      "Array after loop iteration [2, 4, 5, 7, 8, 13, 17, 20, 25]\n",
      "\n"
     ]
    },
    {
     "data": {
      "text/plain": [
       "[2, 4, 5, 7, 8, 13, 17, 20, 25]"
      ]
     },
     "execution_count": 17,
     "metadata": {},
     "output_type": "execute_result"
    }
   ],
   "source": [
    "array = [5,13,2,25,7,17,20,8,4]\n",
    "\n",
    "heapsort_invariant(array)"
   ]
  },
  {
   "cell_type": "markdown",
   "metadata": {},
   "source": [
    "## 6.4-3\n",
    "\n",
    "* Sorted array in increasing order:\n",
    "    - The call on **build_max_heap** will take $\\Theta(n\\lg{n})$ time\n",
    "    - The *for* loop has $n$ iterations and each call to **max_heapify** takes $\\lg n$ time, so the overal running time of the *for* loop is $\\Theta(n\\lg{n})$\n",
    "    - The whole **heapsort** algorithm will take  $\\Theta(n\\lg{n})$\n",
    "* Sorted array in decreasing order:\n",
    "    - The array is already a *max-heap* so **build_max_heap** will take only $\\Theta(n)$ time as it will make n calls to **max_heapify**, which in this scenario will take only constant time.\n",
    "    - However, the algorithm running time will be dominated by the *for* loop as it will still take $\\Theta(n\\lg{n})$\n"
   ]
  },
  {
   "cell_type": "markdown",
   "metadata": {},
   "source": [
    "## 6.4-4\n",
    "\n",
    "This problem is the same as one of the cases of **6.4-3**. The worst case scenario would be when the array is sorted in decreasing order. The worst-case running time of the algorithm will be $\\Theta(n\\lg{n})$"
   ]
  },
  {
   "cell_type": "markdown",
   "metadata": {},
   "source": [
    "## 6-4.5\n",
    "\n",
    "My logic for this problem is the same as in the case when the array is already sorted. But then I do not know how to use the information that the elements are distinct."
   ]
  },
  {
   "cell_type": "markdown",
   "metadata": {},
   "source": [
    "# 6.5 Priority queues"
   ]
  },
  {
   "cell_type": "code",
   "execution_count": 18,
   "metadata": {},
   "outputs": [],
   "source": [
    "def heap_maximum(A):\n",
    "    return A[0]"
   ]
  },
  {
   "cell_type": "code",
   "execution_count": 19,
   "metadata": {},
   "outputs": [],
   "source": [
    "def heap_extract_max(A,n):\n",
    "    if n < 1:\n",
    "        raise ValueError('heap underflow')\n",
    "    maximum = A[0]\n",
    "    A[0] = A[n-1]\n",
    "    n -= 1\n",
    "    max_heapify(A,n,0)\n",
    "    return maximum, A[:n]  "
   ]
  },
  {
   "cell_type": "code",
   "execution_count": 20,
   "metadata": {},
   "outputs": [],
   "source": [
    "def heap_increase_key(A,i,key):\n",
    "    if key < A[i-1]:\n",
    "        raise ValueError('new key is smaller than current key')\n",
    "    A[-1] = key\n",
    "    n = len(A)\n",
    "    build_max_heap(A)"
   ]
  },
  {
   "cell_type": "code",
   "execution_count": 21,
   "metadata": {},
   "outputs": [],
   "source": [
    "def max_heap_insert(A,n,key):\n",
    "    A.append(-float('inf'))\n",
    "    n = len(A)\n",
    "    heap_increase_key(A,n,key)\n",
    "    return A"
   ]
  },
  {
   "cell_type": "markdown",
   "metadata": {},
   "source": [
    "## 6.5-1"
   ]
  },
  {
   "cell_type": "code",
   "execution_count": 22,
   "metadata": {},
   "outputs": [
    {
     "data": {
      "text/plain": [
       "[13, 12, 9, 5, 6, 8, 7, 4, 0, 1, 2]"
      ]
     },
     "execution_count": 22,
     "metadata": {},
     "output_type": "execute_result"
    }
   ],
   "source": [
    "A = [15,13,9,5,12,8,7,4,0,6,2,1]\n",
    "heap_extract_max(A,len(A))[1]"
   ]
  },
  {
   "cell_type": "markdown",
   "metadata": {},
   "source": [
    "## 6.5-2"
   ]
  },
  {
   "cell_type": "code",
   "execution_count": 23,
   "metadata": {},
   "outputs": [
    {
     "data": {
      "text/plain": [
       "[15, 13, 10, 5, 12, 9, 7, 4, 0, 6, 2, 1, 8]"
      ]
     },
     "execution_count": 23,
     "metadata": {},
     "output_type": "execute_result"
    }
   ],
   "source": [
    "A = [15,13,9,5,12,8,7,4,0,6,2,1]\n",
    "max_heap_insert(A,len(A),10)"
   ]
  },
  {
   "cell_type": "markdown",
   "metadata": {},
   "source": [
    "## 6.5-3"
   ]
  },
  {
   "cell_type": "code",
   "execution_count": 24,
   "metadata": {},
   "outputs": [],
   "source": [
    "def heap_minimum(A):\n",
    "    return A[0]"
   ]
  },
  {
   "cell_type": "code",
   "execution_count": 25,
   "metadata": {},
   "outputs": [],
   "source": [
    "def heap_extract_min(A,n):\n",
    "    if n < 1:\n",
    "        raise ValueError('heap underflow')\n",
    "    minimum = A[0]\n",
    "    A[0] = A[n-1]\n",
    "    n -= 1\n",
    "    min_heapify(A,n,0)\n",
    "    return minimum, A[:n]  "
   ]
  },
  {
   "cell_type": "code",
   "execution_count": 26,
   "metadata": {},
   "outputs": [],
   "source": [
    "def heap_decrease_key(A,i,key):\n",
    "    if key < A[i-1]:\n",
    "        raise ValueError('new key is smaller than current key')\n",
    "    A[-1] = key\n",
    "    n = len(A)\n",
    "    build_min_heap(A)"
   ]
  },
  {
   "cell_type": "code",
   "execution_count": 27,
   "metadata": {},
   "outputs": [],
   "source": [
    "def min_heap_insert(A,n,key):\n",
    "    A.append(-float('inf'))\n",
    "    n = len(A)\n",
    "    heap_decrease_key(A,n,key)\n",
    "    return A"
   ]
  },
  {
   "cell_type": "markdown",
   "metadata": {},
   "source": [
    "## 6.5-4\n",
    "\n",
    "We insert $-\\infty$ in order to make sure that an error will not be raised. However, I do not understand why we just don't add the element at the end and skip several opearions - insert $-\\infty$, compare it with the new key, replace those two."
   ]
  },
  {
   "cell_type": "markdown",
   "metadata": {},
   "source": [
    "## 6.5-5\n",
    "\n",
    "At the beginning we have a heap structure and we replace the last ($i$th) element with the new key value. The only possible parent-child pair where the heap property my not held is between the $i$th element and its parent. This is true in the next iterations until the heap property is restored."
   ]
  },
  {
   "cell_type": "markdown",
   "metadata": {},
   "source": [
    "## 6.5-6\n",
    "\n",
    "In my implementation I cannot replace anything."
   ]
  },
  {
   "cell_type": "markdown",
   "metadata": {},
   "source": [
    "## 6.5-7\n",
    "\n"
   ]
  },
  {
   "cell_type": "markdown",
   "metadata": {},
   "source": [
    "## 6.5-8"
   ]
  },
  {
   "cell_type": "code",
   "execution_count": 28,
   "metadata": {},
   "outputs": [],
   "source": [
    "def heap_delete(A,i):\n",
    "    A[i] = float('inf')\n",
    "    n = len(A)\n",
    "    build_max_heap(A)\n",
    "    A[0], A[-1] = A[-1], A[0]\n",
    "    del A[-1]    \n",
    "    build_max_heap(A)\n",
    "    return A"
   ]
  },
  {
   "cell_type": "code",
   "execution_count": 29,
   "metadata": {},
   "outputs": [
    {
     "data": {
      "text/plain": [
       "[15, 13, 9, 5, 6, 8, 7, 4, 0, 1, 2]"
      ]
     },
     "execution_count": 29,
     "metadata": {},
     "output_type": "execute_result"
    }
   ],
   "source": [
    "A = [15,13,9,5,12,8,7,4,0,6,2,1]\n",
    "heap_delete(A,4)"
   ]
  },
  {
   "cell_type": "markdown",
   "metadata": {},
   "source": [
    "Unfortunately I cant think of a way to run this is $\\lg n$ time. My implementation runs for $n\\lg n$ because of **build_max_heap**"
   ]
  },
  {
   "cell_type": "markdown",
   "metadata": {},
   "source": [
    "## 6.5-9\n",
    "\n",
    "Take the first element in all of the $k$ sorted lists. Run **min_heapify** at the root. Then from the $k$ lists get the minimum element out of all $k$ first element. Append it in the heap array and run **min_heapify** in the position of its parent. Continue with this. We will run this $n$ times, but I am not sure if **min_heapify** will run for $lg k$ or $lg n$ time."
   ]
  }
 ],
 "metadata": {
  "kernelspec": {
   "display_name": "Python 3",
   "language": "python",
   "name": "python3"
  },
  "language_info": {
   "codemirror_mode": {
    "name": "ipython",
    "version": 3
   },
   "file_extension": ".py",
   "mimetype": "text/x-python",
   "name": "python",
   "nbconvert_exporter": "python",
   "pygments_lexer": "ipython3",
   "version": "3.6.9"
  }
 },
 "nbformat": 4,
 "nbformat_minor": 2
}
